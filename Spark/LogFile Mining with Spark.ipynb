{
  "nbformat": 4,
  "nbformat_minor": 0,
  "metadata": {
    "colab": {
      "name": "BD3_2.ipynb",
      "provenance": [],
      "collapsed_sections": [
        "4W0ZfwrPRagF"
      ]
    },
    "kernelspec": {
      "name": "python3",
      "display_name": "Python 3"
    },
    "language_info": {
      "name": "python"
    }
  },
  "cells": [
    {
      "cell_type": "markdown",
      "metadata": {
        "id": "-kb6dSZvcSBJ"
      },
      "source": [
        "## Getting Spark ready"
      ]
    },
    {
      "cell_type": "code",
      "metadata": {
        "id": "duQ-7uXgCr6N"
      },
      "source": [
        "!apt-get install openjdk-8-jdk-headless -qq > /dev/null\n",
        "!wget -q http://archive.apache.org/dist/spark/spark-3.1.1/spark-3.1.1-bin-hadoop3.2.tgz\n",
        "!tar xf spark-3.1.1-bin-hadoop3.2.tgz\n",
        "!pip install -q findspark"
      ],
      "execution_count": 1,
      "outputs": []
    },
    {
      "cell_type": "code",
      "metadata": {
        "id": "HT8z3C6PFKCH"
      },
      "source": [
        "import os\n",
        "os.environ[\"JAVA_HOME\"] = \"/usr/lib/jvm/java-8-openjdk-amd64\"\n",
        "os.environ[\"SPARK_HOME\"] = \"/content/spark-3.1.1-bin-hadoop3.2\""
      ],
      "execution_count": 2,
      "outputs": []
    },
    {
      "cell_type": "code",
      "metadata": {
        "colab": {
          "base_uri": "https://localhost:8080/",
          "height": 216
        },
        "id": "kRmec5KgFLHf",
        "outputId": "5af30f38-49ff-4e02-d82f-9b0c49823285"
      },
      "source": [
        "import findspark\n",
        "findspark.init()\n",
        "from pyspark.sql import SparkSession\n",
        "spark = SparkSession.builder.master(\"local[*]\").getOrCreate()\n",
        "spark.conf.set(\"spark.sql.repl.eagerEval.enabled\", True) # Property used to format output tables better\n",
        "spark"
      ],
      "execution_count": 3,
      "outputs": [
        {
          "output_type": "execute_result",
          "data": {
            "text/html": [
              "\n",
              "            <div>\n",
              "                <p><b>SparkSession - in-memory</b></p>\n",
              "                \n",
              "        <div>\n",
              "            <p><b>SparkContext</b></p>\n",
              "\n",
              "            <p><a href=\"http://b1f5aa1fb7ac:4040\">Spark UI</a></p>\n",
              "\n",
              "            <dl>\n",
              "              <dt>Version</dt>\n",
              "                <dd><code>v3.1.1</code></dd>\n",
              "              <dt>Master</dt>\n",
              "                <dd><code>local[*]</code></dd>\n",
              "              <dt>AppName</dt>\n",
              "                <dd><code>pyspark-shell</code></dd>\n",
              "            </dl>\n",
              "        </div>\n",
              "        \n",
              "            </div>\n",
              "        "
            ],
            "text/plain": [
              "<pyspark.sql.session.SparkSession at 0x7f6d1f8f1750>"
            ]
          },
          "metadata": {
            "tags": []
          },
          "execution_count": 3
        }
      ]
    },
    {
      "cell_type": "markdown",
      "metadata": {
        "id": "UuTrVbAXRYDn"
      },
      "source": [
        "## Preprocessing"
      ]
    },
    {
      "cell_type": "markdown",
      "metadata": {
        "id": "4W0ZfwrPRagF"
      },
      "source": [
        "#### Read log file\n",
        "\n",
        "all log files are under one column by the name of 'value'! \n",
        "\n",
        "Let's define a column for each peice of info"
      ]
    },
    {
      "cell_type": "code",
      "metadata": {
        "colab": {
          "base_uri": "https://localhost:8080/"
        },
        "id": "u4V9qTRvFMy3",
        "outputId": "ba35b4e5-a341-4827-bfb2-2c4e77c3ea39"
      },
      "source": [
        "df = spark.read.text('Log')\n",
        "df.show(5, truncate=False)"
      ],
      "execution_count": 9,
      "outputs": [
        {
          "output_type": "stream",
          "text": [
            "+-----------------------------------------------------------------------------------------------------------------------+\n",
            "|value                                                                                                                  |\n",
            "+-----------------------------------------------------------------------------------------------------------------------+\n",
            "|199.72.81.55 - - [01/Jul/1995:00:00:01 -0400] \"GET /history/apollo/ HTTP/1.0\" 200 6245                                 |\n",
            "|unicomp6.unicomp.net - - [01/Jul/1995:00:00:06 -0400] \"GET /shuttle/countdown/ HTTP/1.0\" 200 3985                      |\n",
            "|199.120.110.21 - - [01/Jul/1995:00:00:09 -0400] \"GET /shuttle/missions/sts-73/mission-sts-73.html HTTP/1.0\" 200 4085   |\n",
            "|burger.letters.com - - [01/Jul/1995:00:00:11 -0400] \"GET /shuttle/countdown/liftoff.html HTTP/1.0\" 304 0               |\n",
            "|199.120.110.21 - - [01/Jul/1995:00:00:11 -0400] \"GET /shuttle/missions/sts-73/sts-73-patch-small.gif HTTP/1.0\" 200 4179|\n",
            "+-----------------------------------------------------------------------------------------------------------------------+\n",
            "only showing top 5 rows\n",
            "\n"
          ],
          "name": "stdout"
        }
      ]
    },
    {
      "cell_type": "markdown",
      "metadata": {
        "id": "ymi-w6y8RdVA"
      },
      "source": [
        "#### Split columns\n",
        "\n",
        "Splitting is done everytime there is a space (' ') and the useful information are stored in their corresponding columns. at the end, the 'value' column is dropped.\n",
        "\n",
        "Schema shows that all columns are strings! we will fix that later"
      ]
    },
    {
      "cell_type": "code",
      "metadata": {
        "colab": {
          "base_uri": "https://localhost:8080/"
        },
        "id": "hvi0Z7uCFrTW",
        "outputId": "9bad2962-3a2c-4dfe-8fa8-4a58b8c511b6"
      },
      "source": [
        "from pyspark.sql.functions import col, split, substring, length, to_date, to_timestamp\n",
        "\n",
        "split_col = split(col('value'), ' ')\n",
        "\n",
        "splitDF = df.withColumn(\"host\",split_col.getItem(0)) \\\n",
        "    .withColumn(\"datetime\",split_col.getItem(3)) \\\n",
        "    .withColumn(\"requesttype\",split_col.getItem(5)) \\\n",
        "    .withColumn(\"requestURL\",split_col.getItem(6)) \\\n",
        "    .withColumn(\"version\",split_col.getItem(7)) \\\n",
        "    .withColumn(\"response1\",split_col.getItem(8)) \\\n",
        "    .withColumn(\"response2\",split_col.getItem(9)) \\\n",
        "    .drop(\"value\")   \n",
        "\n",
        "splitDF.printSchema()\n",
        "splitDF.show(5, truncate = False)"
      ],
      "execution_count": 42,
      "outputs": [
        {
          "output_type": "stream",
          "text": [
            "root\n",
            " |-- host: string (nullable = true)\n",
            " |-- datetime: string (nullable = true)\n",
            " |-- requesttype: string (nullable = true)\n",
            " |-- requestURL: string (nullable = true)\n",
            " |-- version: string (nullable = true)\n",
            " |-- response1: string (nullable = true)\n",
            " |-- response2: string (nullable = true)\n",
            "\n",
            "+--------------------+---------------------+-----------+-----------------------------------------------+---------+---------+---------+\n",
            "|host                |datetime             |requesttype|requestURL                                     |version  |response1|response2|\n",
            "+--------------------+---------------------+-----------+-----------------------------------------------+---------+---------+---------+\n",
            "|199.72.81.55        |[01/Jul/1995:00:00:01|\"GET       |/history/apollo/                               |HTTP/1.0\"|200      |6245     |\n",
            "|unicomp6.unicomp.net|[01/Jul/1995:00:00:06|\"GET       |/shuttle/countdown/                            |HTTP/1.0\"|200      |3985     |\n",
            "|199.120.110.21      |[01/Jul/1995:00:00:09|\"GET       |/shuttle/missions/sts-73/mission-sts-73.html   |HTTP/1.0\"|200      |4085     |\n",
            "|burger.letters.com  |[01/Jul/1995:00:00:11|\"GET       |/shuttle/countdown/liftoff.html                |HTTP/1.0\"|304      |0        |\n",
            "|199.120.110.21      |[01/Jul/1995:00:00:11|\"GET       |/shuttle/missions/sts-73/sts-73-patch-small.gif|HTTP/1.0\"|200      |4179     |\n",
            "+--------------------+---------------------+-----------+-----------------------------------------------+---------+---------+---------+\n",
            "only showing top 5 rows\n",
            "\n"
          ],
          "name": "stdout"
        }
      ]
    },
    {
      "cell_type": "markdown",
      "metadata": {
        "id": "c17OZLf5Rhef"
      },
      "source": [
        "#### Remove extra junk at beginning or end of column values\n",
        "\n",
        "Even after splitting by space, some columns have bad characters at first or last of them like '[' or '\"'\n",
        "\n",
        "Let's fix that by keeping the correct substrings of those columns\n",
        "\n",
        "Now our table looks beautiful :)"
      ]
    },
    {
      "cell_type": "code",
      "metadata": {
        "colab": {
          "base_uri": "https://localhost:8080/"
        },
        "id": "RrBkx6OFKKTM",
        "outputId": "c0641b15-b0ef-4e2e-8170-02d6c199722e"
      },
      "source": [
        "splitDF = splitDF.withColumn(\"datetime\", substring(\"datetime\", 2, 20)) \\\n",
        "                 .withColumn(\"requesttype\", substring(\"requesttype\", 2, 4)) \\\n",
        "                 .withColumn(\"version\", substring(\"version\", 1, 8))\n",
        "splitDF.show(5, truncate = False)"
      ],
      "execution_count": 43,
      "outputs": [
        {
          "output_type": "stream",
          "text": [
            "+--------------------+--------------------+-----------+-----------------------------------------------+--------+---------+---------+\n",
            "|host                |datetime            |requesttype|requestURL                                     |version |response1|response2|\n",
            "+--------------------+--------------------+-----------+-----------------------------------------------+--------+---------+---------+\n",
            "|199.72.81.55        |01/Jul/1995:00:00:01|GET        |/history/apollo/                               |HTTP/1.0|200      |6245     |\n",
            "|unicomp6.unicomp.net|01/Jul/1995:00:00:06|GET        |/shuttle/countdown/                            |HTTP/1.0|200      |3985     |\n",
            "|199.120.110.21      |01/Jul/1995:00:00:09|GET        |/shuttle/missions/sts-73/mission-sts-73.html   |HTTP/1.0|200      |4085     |\n",
            "|burger.letters.com  |01/Jul/1995:00:00:11|GET        |/shuttle/countdown/liftoff.html                |HTTP/1.0|304      |0        |\n",
            "|199.120.110.21      |01/Jul/1995:00:00:11|GET        |/shuttle/missions/sts-73/sts-73-patch-small.gif|HTTP/1.0|200      |4179     |\n",
            "+--------------------+--------------------+-----------+-----------------------------------------------+--------+---------+---------+\n",
            "only showing top 5 rows\n",
            "\n"
          ],
          "name": "stdout"
        }
      ]
    },
    {
      "cell_type": "markdown",
      "metadata": {
        "id": "K-fRJNiVUtMy"
      },
      "source": [
        "#### Cast to appropriate types\n",
        "\n",
        "datetime and response columns are casted for easier calculations\n",
        "\n"
      ]
    },
    {
      "cell_type": "code",
      "metadata": {
        "colab": {
          "base_uri": "https://localhost:8080/"
        },
        "id": "nwfAun8FPkZI",
        "outputId": "f5e5d398-52fb-439b-ed12-5bc540c33f6b"
      },
      "source": [
        "splitDF = splitDF.withColumn(\"datetime\", to_date('datetime', 'dd/MMM/yyyy:HH:mm:ss')) \\\n",
        "                .withColumn(\"response1\", col('response1').cast('int')) \\\n",
        "                .withColumn(\"response2\", col('response2').cast('int')) \n",
        "\n",
        "splitDF.printSchema()"
      ],
      "execution_count": 52,
      "outputs": [
        {
          "output_type": "stream",
          "text": [
            "root\n",
            " |-- host: string (nullable = true)\n",
            " |-- datetime: date (nullable = true)\n",
            " |-- requesttype: string (nullable = true)\n",
            " |-- requestURL: string (nullable = true)\n",
            " |-- version: string (nullable = true)\n",
            " |-- response1: integer (nullable = true)\n",
            " |-- response2: integer (nullable = true)\n",
            "\n"
          ],
          "name": "stdout"
        }
      ]
    },
    {
      "cell_type": "markdown",
      "metadata": {
        "id": "00TakmtwVsHn"
      },
      "source": [
        "## Part 1\n",
        "\n",
        "hosts are selected, only distinct values are kept, and they are counted\n",
        "\n",
        "we have over 12000 distinct hosts! nice!"
      ]
    },
    {
      "cell_type": "code",
      "metadata": {
        "colab": {
          "base_uri": "https://localhost:8080/"
        },
        "id": "DBPwycaHVveo",
        "outputId": "b13f5368-caa0-4141-8561-6678fa74bc56"
      },
      "source": [
        "splitDF.select('host').distinct().count()"
      ],
      "execution_count": 54,
      "outputs": [
        {
          "output_type": "execute_result",
          "data": {
            "text/plain": [
              "12133"
            ]
          },
          "metadata": {
            "tags": []
          },
          "execution_count": 54
        }
      ]
    },
    {
      "cell_type": "markdown",
      "metadata": {
        "id": "iGpeOwEDWSpb"
      },
      "source": [
        "# Part 2\n",
        "\n",
        "First line calculates the number of requests each host receives each day.\n",
        "\n",
        "We want daily average of requests for each hosts, so we average the number of requests for each host across all days.\n",
        "\n",
        "the output shows the most busy hosts and their daily number of requests"
      ]
    },
    {
      "cell_type": "code",
      "metadata": {
        "colab": {
          "base_uri": "https://localhost:8080/"
        },
        "id": "4G7i9OENWGxe",
        "outputId": "fabbd509-cc33-4a29-d88b-fbe76370d5c5"
      },
      "source": [
        "splitDF.groupBy('host', 'datetime').count() \\\n",
        "       .groupby('host').avg('count') \\\n",
        "       .orderBy('avg(count)', ascending=False) \\\n",
        "       .show(10, truncate=False)"
      ],
      "execution_count": 66,
      "outputs": [
        {
          "output_type": "stream",
          "text": [
            "+--------------------+------------------+\n",
            "|host                |avg(count)        |\n",
            "+--------------------+------------------+\n",
            "|piweba3y.prodigy.com|674.6666666666666 |\n",
            "|alyssa.prodigy.com  |404.0             |\n",
            "|134.83.184.18       |362.0             |\n",
            "|burger.letters.com  |350.0             |\n",
            "|piweba1y.prodigy.com|323.0             |\n",
            "|piweba4y.prodigy.com|310.0             |\n",
            "|disarray.demon.co.uk|301.3333333333333 |\n",
            "|www-b6.proxy.aol.com|297.6666666666667 |\n",
            "|mica.saglac.qc.ca   |220.0             |\n",
            "|www-d4.proxy.aol.com|211.33333333333334|\n",
            "+--------------------+------------------+\n",
            "only showing top 10 rows\n",
            "\n"
          ],
          "name": "stdout"
        }
      ]
    },
    {
      "cell_type": "markdown",
      "metadata": {
        "id": "rc6ItWmpZ-_Q"
      },
      "source": [
        "# Part 3\n",
        "\n",
        "By using substring, we can find, filter, and count '.gif' URLs.\n",
        "\n",
        "There are over 81000 of them!"
      ]
    },
    {
      "cell_type": "code",
      "metadata": {
        "colab": {
          "base_uri": "https://localhost:8080/"
        },
        "id": "6CP0Ac2SW-Fi",
        "outputId": "7594380d-f706-4b88-cec9-ea214542a308"
      },
      "source": [
        "splitDF.filter(substring('requestURL', -4,4) == '.gif').count()"
      ],
      "execution_count": 81,
      "outputs": [
        {
          "output_type": "execute_result",
          "data": {
            "text/plain": [
              "81832"
            ]
          },
          "metadata": {
            "tags": []
          },
          "execution_count": 81
        }
      ]
    },
    {
      "cell_type": "markdown",
      "metadata": {
        "id": "NTbS8Go0ejl-"
      },
      "source": [
        "# Part 4\n"
      ]
    },
    {
      "cell_type": "markdown",
      "metadata": {
        "id": "YzQbsmGRe3Ve"
      },
      "source": [
        "#### Popular domains\n",
        "\n",
        "First, any host that does not contain any english words ( a-z and A-Z ) is removed.\n",
        "\n",
        "Then the hosts counts is calculated, The ones having count of 3 or less are discared, and the remaining are ordered and shown in the output"
      ]
    },
    {
      "cell_type": "code",
      "metadata": {
        "colab": {
          "base_uri": "https://localhost:8080/"
        },
        "id": "0M1LkJ_qb2YN",
        "outputId": "2ca59dfb-67fa-44e8-9225-0f6ee5c4261a"
      },
      "source": [
        "# This regex removes any host that does not contain any english characters a-z and A-Z\n",
        "splitDF.filter(col('host').rlike(\"^[^a-zA-Z]*$\") == False) \\\n",
        "       .groupBy('host').count() \\\n",
        "       .filter(col('count') > 3) \\\n",
        "       .orderBy('count', ascending=True) \\\n",
        "       .show(20, truncate=False)"
      ],
      "execution_count": 107,
      "outputs": [
        {
          "output_type": "stream",
          "text": [
            "+------------------------------+-----+\n",
            "|host                          |count|\n",
            "+------------------------------+-----+\n",
            "|pm2_2.digital.net             |4    |\n",
            "|ad02-001.compuserve.com       |4    |\n",
            "|inlnet3.ftech.co.uk           |4    |\n",
            "|elvira.thegap.com             |4    |\n",
            "|unix.neont.com                |4    |\n",
            "|race-server.race.u-tokyo.ac.jp|4    |\n",
            "|dec5ki.cs.uregina.ca          |4    |\n",
            "|cs1-08.sun.ptd.net            |4    |\n",
            "|nb-dyna129.interaccess.com    |4    |\n",
            "|kenwong.magna.com.au          |4    |\n",
            "|ppp31.texoma.com              |4    |\n",
            "|line105.nwm.mindlink.net      |4    |\n",
            "|leo.racsa.co.cr               |4    |\n",
            "|ip080.phx.primenet.com        |4    |\n",
            "|ppp9.sbbs.se                  |4    |\n",
            "|ix-sj12-17.ix.netcom.com      |4    |\n",
            "|lcy-ip8.halcyon.com           |4    |\n",
            "|blv-pm1-ip9.halcyon.com       |4    |\n",
            "|mac-41-4.cern.ch              |4    |\n",
            "|dram.cmu.susx.ac.uk           |4    |\n",
            "+------------------------------+-----+\n",
            "only showing top 20 rows\n",
            "\n"
          ],
          "name": "stdout"
        }
      ]
    },
    {
      "cell_type": "markdown",
      "metadata": {
        "id": "k7Z4c7XinapM"
      },
      "source": [
        "#### daily top domains"
      ]
    },
    {
      "cell_type": "markdown",
      "metadata": {
        "id": "AdBzFjV4gH7h"
      },
      "source": [
        "First, like the previous part, only domains are kept and IP's are discarded.\n",
        "\n",
        "This time, in 'daily_requests', the grouping is done on datetime and host when calculating count, because we want to find daily top domains.\n",
        "\n",
        "in 'daily_max', The maximum counts are found by a simple grouping by datetime and max() aggregation.\n",
        "\n",
        "However, 'daily_max' does not contain the name of the hosts, So we join it with 'daily_request' on datetime and count to get the name of daily top domains"
      ]
    },
    {
      "cell_type": "code",
      "metadata": {
        "colab": {
          "base_uri": "https://localhost:8080/"
        },
        "id": "QuJvtD-0e0nQ",
        "outputId": "92265328-6465-4594-ef33-45a8189f39b9"
      },
      "source": [
        "# daily count of requests for each host\n",
        "daily_requests = splitDF.filter(col('host').rlike(\"^[^a-zA-Z]*$\") == False) \\\n",
        "                        .groupBy('datetime', 'host').count()\n",
        "\n",
        "# hosts with maximum daily request (no host column, only count)\n",
        "daily_max = daily_requests.groupBy('datetime').max('count') \\\n",
        "                          .withColumnRenamed(\"max(count)\", \"count\")\n",
        "\n",
        "# join the 2 tables on count and datetime match (so we can see which host it belongs to)\n",
        "data_joined = daily_max.join(daily_requests, ['datetime', 'count']).show()"
      ],
      "execution_count": 123,
      "outputs": [
        {
          "output_type": "stream",
          "text": [
            "+----------+-----+--------------------+\n",
            "|  datetime|count|                host|\n",
            "+----------+-----+--------------------+\n",
            "|1995-07-01|  623|piweba3y.prodigy.com|\n",
            "|1995-07-02|  960|piweba3y.prodigy.com|\n",
            "|1995-07-03|  441|piweba3y.prodigy.com|\n",
            "+----------+-----+--------------------+\n",
            "\n"
          ],
          "name": "stdout"
        }
      ]
    },
    {
      "cell_type": "markdown",
      "metadata": {
        "id": "LRIpnHJFnjDX"
      },
      "source": [
        "# Step 5"
      ]
    },
    {
      "cell_type": "markdown",
      "metadata": {
        "id": "YxnDB50zhFi3"
      },
      "source": [
        "First, rows with response code = 200 are discarded.\n",
        "\n",
        "Because we want a columnwise output, we should have as many columns as HTTP errors and only one row containing the count of each HTTP error.\n",
        "\n",
        "We group by a literal value so all our data is in one group and pivot on response code."
      ]
    },
    {
      "cell_type": "code",
      "metadata": {
        "colab": {
          "base_uri": "https://localhost:8080/"
        },
        "id": "EQmWnKVShIJ3",
        "outputId": "c3f0ad7f-ffec-484d-f7e1-1bf63e722abc"
      },
      "source": [
        "from pyspark.sql.functions import lit\n",
        "\n",
        "daily_requests = splitDF.filter(col('response1') != 200) \\\n",
        "                        # Want all data to be in 1 row\n",
        "                        .groupBy(lit('count').alias(\"HTTP error\")) \\\n",
        "                        # Want columnwise table\n",
        "                        .pivot(\"response1\") \\\n",
        "                        .count() \\\n",
        "                        .show() "
      ],
      "execution_count": 145,
      "outputs": [
        {
          "output_type": "stream",
          "text": [
            "+----------+---+---+---+----+----+---+---+---+---+---+---+---+----+----+----+----+----+----+----+----+----+----+----+----+----+----+----+----+----+----+----+----+----+----+-----+-----+-----+-----+-----+-----+-----+-----+-----+-----+-----+-----+-----+-----+-----+-----+-----+-----+-----+-----+-----+-----+-----+-----+-----+-----+-----+-----+-----+-----+-----+-----+-----+-----+-----+-----+-----+-----+-----+-----+-----+-----+-----+-----+-----+-----+-----+-----+------+------+------+------+------+------+------+------+------+------+-------+-------+\n",
            "|HTTP error|  0| 68|234| 302| 304|363|403|404|500|651|669|786|1204|1289|1380|1391|1713|1879|2537|3047|3092|3214|3635|3985|4179|4209|4538|5544|5866|7008|7074|7124|7634|8763|10099|11175|11326|11473|11644|11853|11934|12040|12054|12169|12290|12859|13116|14897|16102|17083|17314|18128|19084|19092|20271|25439|25814|30232|30995|34029|34546|35540|40310|40960|42732|44153|45966|45970|46888|49152|52491|59752|63942|64379|64427|64910|64939|65536|67310|77646|78183|90112|104916|130724|133580|203429|240531|372172|593699|655360|835394|946425|1081049|1121554|\n",
            "+----------+---+---+---+----+----+---+---+---+---+---+---+---+----+----+----+----+----+----+----+----+----+----+----+----+----+----+----+----+----+----+----+----+----+----+-----+-----+-----+-----+-----+-----+-----+-----+-----+-----+-----+-----+-----+-----+-----+-----+-----+-----+-----+-----+-----+-----+-----+-----+-----+-----+-----+-----+-----+-----+-----+-----+-----+-----+-----+-----+-----+-----+-----+-----+-----+-----+-----+-----+-----+-----+-----+-----+------+------+------+------+------+------+------+------+------+------+-------+-------+\n",
            "|     count|  1|  1| 21|6083|8879| 21|  6|795| 53|  3| 21| 33|  18|   4|   1|   1|   5|   1|   1|   1|   1|   2|   1|   3|   1|   1|   3|   3|  22|   1|  11|   1|   7|   1|    1|    1|    1|    1|    1|    3|    1|    2|    7|    1|    1|    1|    1|    1|    2|    1|    2|    1|    1|    1|    1|    2|    1|    4|    1|    1|    1|    3|   11|    1|    1|    1|    1|    1|    2|    1|    1|    1|    1|    1|    1|    1|    1|    2|    1|    1|    1|    1|     1|     6|     1|     1|     1|     1|     1|     1|     2|     1|      2|      1|\n",
            "+----------+---+---+---+----+----+---+---+---+---+---+---+---+----+----+----+----+----+----+----+----+----+----+----+----+----+----+----+----+----+----+----+----+----+----+-----+-----+-----+-----+-----+-----+-----+-----+-----+-----+-----+-----+-----+-----+-----+-----+-----+-----+-----+-----+-----+-----+-----+-----+-----+-----+-----+-----+-----+-----+-----+-----+-----+-----+-----+-----+-----+-----+-----+-----+-----+-----+-----+-----+-----+-----+-----+-----+------+------+------+------+------+------+------+------+------+------+-------+-------+\n",
            "\n"
          ],
          "name": "stdout"
        }
      ]
    }
  ]
}