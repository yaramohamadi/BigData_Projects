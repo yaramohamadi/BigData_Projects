{
 "cells": [
  {
   "cell_type": "markdown",
   "metadata": {
    "id": "I2ceOFUvAGas"
   },
   "source": [
    "# Imports"
   ]
  },
  {
   "cell_type": "code",
   "execution_count": null,
   "metadata": {
    "id": "ELNHwOqzKX9l",
    "pycharm": {}
   },
   "outputs": [],
   "source": [
    "%%capture\n",
    "!pip install py2neo"
   ]
  },
  {
   "cell_type": "code",
   "execution_count": null,
   "metadata": {
    "id": "x9gTS-NXKX9p",
    "pycharm": {}
   },
   "outputs": [],
   "source": [
    "from py2neo import Graph"
   ]
  },
  {
   "cell_type": "markdown",
   "metadata": {
    "id": "J2Pcx9lyAJO6"
   },
   "source": [
    "# Put your address and password here."
   ]
  },
  {
   "cell_type": "code",
   "execution_count": null,
   "metadata": {
    "id": "Y0klNaAneOQQ"
   },
   "outputs": [],
   "source": [
    "bolt = \"bolt://3.239.227.179:7687\"\n",
    "pswrd = \"cracks-execution-towel\"\n",
    "graph = Graph(bolt, auth=(\"neo4j\", pswrd))"
   ]
  },
  {
   "cell_type": "markdown",
   "metadata": {
    "id": "g2BCaOTZ_Z4e"
   },
   "source": [
    "# Import Queries"
   ]
  },
  {
   "cell_type": "code",
   "execution_count": null,
   "metadata": {
    "id": "5kStc2Bz_aEt"
   },
   "outputs": [],
   "source": [
    "import_races_query = \"\"\"\n",
    "\n",
    "// Prepare a SPARQL query \n",
    "WITH 'SELECT ?item ?itemLabel \n",
    "      WHERE{ ?item wdt:P31 wd:Q989255 . \n",
    "      SERVICE wikibase:label { bd:serviceParam wikibase:language \n",
    "      \"[AUTO_LANGUAGE],en\" } }' AS sparql \n",
    "// make a request to Wikidata\n",
    "CALL apoc.load.jsonParams('https://query.wikidata.org/sparql?query=' + \n",
    "                           apoc.text.urlencode(sparql), \n",
    "                         { Accept: \"application/sparql-results+json\"}, null) \n",
    "YIELD value \n",
    "// Unwind results to row \n",
    "UNWIND value['results']['bindings'] as row \n",
    "// Prepare data \n",
    "WITH row['itemLabel']['value'] as race, \n",
    "     row['item']['value'] as url, \n",
    "     split(row['item']['value'],'/')[-1] as id \n",
    "// Store to Neo4j \n",
    "CREATE (r:Race) SET r.race = race, \n",
    "                    r.url = url, \n",
    "                    r.id = id\n",
    "\n",
    "\"\"\"\n",
    "\n",
    "graph.run(import_races_query);"
   ]
  },
  {
   "cell_type": "code",
   "execution_count": null,
   "metadata": {
    "id": "taqn_YVy_aRl"
   },
   "outputs": [],
   "source": [
    "import_characters_query = \"\"\"\n",
    "\n",
    "// Iterate over each race in graph\n",
    "MATCH (r:Race)\n",
    "// Prepare a SparQL query\n",
    "WITH 'SELECT ?item ?itemLabel \n",
    "      WHERE { ?item wdt:P31 wd:' + r.id + ' . \n",
    "      SERVICE wikibase:label { bd:serviceParam wikibase:language \n",
    "      \"[AUTO_LANGUAGE],en\" } }' AS sparql, r \n",
    "// make a request to Wikidata \n",
    "CALL apoc.load.jsonParams( \"https://query.wikidata.org/sparql?query=\" + \n",
    "                            apoc.text.urlencode(sparql), \n",
    "                            { Accept: \"application/sparql-results+json\"}, null)\n",
    "YIELD value \n",
    "UNWIND value['results']['bindings'] as row \n",
    "WITH row['itemLabel']['value'] as name, \n",
    "     row['item']['value'] as url, \n",
    "     split(row['item']['value'],'/')[-1] as id, r \n",
    "// Store to Neo4j \n",
    "CREATE (c:Character) \n",
    "SET c.name = name, \n",
    "    c.url = url, \n",
    "    c.id = id \n",
    "CREATE (c)-[:BELONG_TO]->(r)\n",
    "\n",
    "\"\"\"\n",
    "\n",
    "graph.run(import_characters_query);"
   ]
  },
  {
   "cell_type": "code",
   "execution_count": null,
   "metadata": {
    "colab": {
     "base_uri": "https://localhost:8080/"
    },
    "id": "zN0_vv5H_agd",
    "outputId": "6936e597-e4fd-4b28-9176-e7a4fae5e5e1"
   },
   "outputs": [],
   "source": [
    "import_gender_query = \"\"\"\n",
    "// Iterate over characters \n",
    "MATCH (r:Character) \n",
    "// Prepare a SparQL query \n",
    "WITH 'SELECT * \n",
    "      WHERE{ ?item rdfs:label ?name . \n",
    "              filter (?item = wd:' + r.id + ') \n",
    "              filter (lang(?name) = \"en\" ) . \n",
    "      OPTIONAL{ ?item wdt:P21 [rdfs:label ?gender] . \n",
    "                filter (lang(?gender)=\"en\") } \n",
    "      OPTIONAL{ ?item wdt:P27 [rdfs:label ?country] . \n",
    "              filter (lang(?country)=\"en\") } \n",
    "      OPTIONAL{ ?item wdt:P1196 [rdfs:label ?death] . \n",
    "              filter (lang(?death)=\"en\") }}' AS sparql, r \n",
    "// make a request to Wikidata \n",
    "CALL apoc.load.jsonParams( \"https://query.wikidata.org/sparql?query=\" \n",
    "    + apoc.text.urlencode(sparql), \n",
    "    { Accept: \"application/sparql-results+json\"}, null)\n",
    "YIELD value \n",
    "UNWIND value['results']['bindings'] as row \n",
    "SET r.gender = row['gender']['value'], \n",
    "    r.manner_of_death = row['death']['value'] \n",
    "// Execute FOREACH statement \n",
    "FOREACH(ignoreme in case when row['country'] is not null then [1] else [] end | \n",
    "    MERGE (c:Country{name:row['country']['value']}) \n",
    "    MERGE (r)-[:IN_COUNTRY]->(c))\n",
    "\n",
    "\"\"\"\n",
    "\n",
    "while True:\n",
    "    try:\n",
    "        graph.run(import_gender_query)\n",
    "        print('Done.')\n",
    "        break\n",
    "    except:\n",
    "        print('Please wait...')"
   ]
  },
  {
   "cell_type": "code",
   "execution_count": null,
   "metadata": {
    "colab": {
     "base_uri": "https://localhost:8080/"
    },
    "id": "Rg-9Fvjk_arn",
    "outputId": "6b0b6b74-7c3d-4209-dfb6-3d4685e7b8cf"
   },
   "outputs": [],
   "source": [
    "import_social_query = \"\"\"\n",
    "\n",
    "// Iterate over characters \n",
    "MATCH (r:Character) \n",
    "WITH 'SELECT * \n",
    "      WHERE{ ?item rdfs:label ?name . \n",
    "             filter (?item = wd:' + r.id + ') \n",
    "             filter (lang(?name) = \"en\" ) . \n",
    "      OPTIONAL{ ?item wdt:P22 ?father } \n",
    "      OPTIONAL{ ?item wdt:P25 ?mother } \n",
    "      OPTIONAL{ ?item wdt:P1038 ?relative } \n",
    "      OPTIONAL{ ?item wdt:P3373 ?sibling } \n",
    "      OPTIONAL{ ?item wdt:P26 ?spouse }}' AS sparql, r \n",
    "// make a request to wikidata \n",
    "CALL apoc.load.jsonParams( \"https://query.wikidata.org/sparql?query=\" + \n",
    "    apoc.text.urlencode(sparql), \n",
    "    { Accept: \"application/sparql-results+json\"}, null) YIELD value \n",
    "UNWIND value['results']['bindings'] as row \n",
    "FOREACH(ignoreme in case when row['mother'] is not null then [1] else [] end | \n",
    "    MERGE (c:Character{url:row['mother']['value']}) \n",
    "    MERGE (r)-[:HAS_MOTHER]->(c)) \n",
    "FOREACH(ignoreme in case when row['father'] is not null then [1] else [] end | \n",
    "    MERGE (c:Character{url:row['father']['value']}) \n",
    "    MERGE (r)-[:HAS_FATHER]->(c)) \n",
    "FOREACH(ignoreme in case when row['relative'] is not null then [1] else [] end | \n",
    "    MERGE (c:Character{url:row['relative']['value']}) \n",
    "    MERGE (r)-[:HAS_RELATIVE]-(c)) \n",
    "FOREACH(ignoreme in case when row['sibling'] is not null then [1] else [] end | \n",
    "    MERGE (c:Character{url:row['sibling']['value']}) \n",
    "    MERGE (r)-[:SIBLING]-(c))\n",
    "FOREACH(ignoreme in case when row['spouse'] is not null then [1] else [] end | \n",
    "    MERGE (c:Character{url:row['spouse']['value']}) \n",
    "    MERGE (r)-[:SPOUSE]-(c))\n",
    "\n",
    "\"\"\"\n",
    "\n",
    "while True:\n",
    "    try:\n",
    "        graph.run(import_social_query)\n",
    "        print('Done.')\n",
    "        break\n",
    "    except:\n",
    "        print('Please wait...')"
   ]
  },
  {
   "cell_type": "code",
   "execution_count": null,
   "metadata": {
    "colab": {
     "base_uri": "https://localhost:8080/"
    },
    "id": "q4p-aiqp_a12",
    "outputId": "1312dbec-9c17-4ecd-bbbb-ae5d7e377788"
   },
   "outputs": [],
   "source": [
    "import_groups_query = \"\"\"\n",
    "\n",
    "MATCH (r:Character) \n",
    "WHERE exists (r.id) \n",
    "WITH 'SELECT * \n",
    "      WHERE{ ?item rdfs:label ?name . \n",
    "             filter (?item = wd:' + r.id + ') \n",
    "             filter (lang(?name) = \"en\" ) . \n",
    "      OPTIONAL { ?item wdt:P106 [rdfs:label ?occupation ] . \n",
    "           filter (lang(?occupation) = \"en\" ). } \n",
    "      OPTIONAL { ?item wdt:P103 [rdfs:label ?language ] . \n",
    "           filter (lang(?language) = \"en\" ) . } \n",
    "      OPTIONAL { ?item wdt:P463 [rdfs:label ?member_of ] . \n",
    "           filter (lang(?member_of) = \"en\" ). } \n",
    "      OPTIONAL { ?item wdt:P1344[rdfs:label ?participant ] . \n",
    "           filter (lang(?participant) = \"en\") . } \n",
    "      OPTIONAL { ?item wdt:P39[rdfs:label ?position ] . \n",
    "           filter (lang(?position) = \"en\") . }}' AS sparql, r \n",
    "CALL apoc.load.jsonParams( \"https://query.wikidata.org/sparql?query=\" + \n",
    "                             apoc.text.urlencode(sparql), \n",
    "                             { Accept: \"application/sparql-results+json\"}, null) \n",
    "YIELD value \n",
    "UNWIND value['results']['bindings'] as row \n",
    "FOREACH(ignoreme in case when row['language'] is not null then [1] else [] end | \n",
    "        MERGE (c:Language{name:row['language']['value']}) \n",
    "        MERGE (r)-[:HAS_LANGUAGE]->(c)) \n",
    "FOREACH(ignoreme in case when row['occupation'] is not null then [1] else [] end | \n",
    "        MERGE (c:Occupation{name:row['occupation']['value']}) \n",
    "        MERGE (r)-[:HAS_OCCUPATION]->(c)) \n",
    "FOREACH(ignoreme in case when row['member_of'] is not null then [1] else [] end | \n",
    "        MERGE (c:Group{name:row['member_of']['value']}) \n",
    "        MERGE (r)-[:MEMBER_OF]->(c)) \n",
    "FOREACH(ignoreme in case when row['participant'] is not null then [1] else [] end | \n",
    "        MERGE (c:Event{name:row['participant']['value']}) \n",
    "        MERGE (r)-[:PARTICIPATED]->(c)) \n",
    "SET r.position = row['position']['value']\n",
    "\n",
    "\"\"\"\n",
    "\n",
    "while True:\n",
    "    try:\n",
    "        graph.run(import_groups_query)\n",
    "        print('Done.')\n",
    "        break\n",
    "    except:\n",
    "        print('Please wait...')"
   ]
  },
  {
   "cell_type": "code",
   "execution_count": null,
   "metadata": {
    "colab": {
     "base_uri": "https://localhost:8080/"
    },
    "id": "t_yyJ8AU_a_n",
    "outputId": "51aa3a94-ba1e-4062-9757-6e60a7c2620c"
   },
   "outputs": [],
   "source": [
    "import_enemy_query = \"\"\"\n",
    "\n",
    "MATCH (r:Character) \n",
    "WHERE exists (r.id) \n",
    "WITH 'SELECT * \n",
    "      WHERE { ?item rdfs:label ?name . \n",
    "              filter (?item = wd:' + r.id + ') \n",
    "              filter (lang(?name) = \"en\" ) . \n",
    "      OPTIONAL{ ?item wdt:P1830 [rdfs:label ?owner ] . \n",
    "            filter (lang(?owner) = \"en\" ). } \n",
    "      OPTIONAL{ ?item wdt:P7047 ?enemy }}' AS sparql, r \n",
    "CALL apoc.load.jsonParams( \"https://query.wikidata.org/sparql?query=\" + \n",
    "                            apoc.text.urlencode(sparql), \n",
    "                            { Accept: \"application/sparql-results+json\"}, null) \n",
    "YIELD value \n",
    "WITH value,r \n",
    "WHERE value['results']['bindings'] <> [] \n",
    "UNWIND value['results']['bindings'] as row \n",
    "FOREACH(ignoreme in case when row['owner'] is not null then [1] else [] end |\n",
    "    MERGE (c:Item{name:row['owner']['value']}) \n",
    "    MERGE (r)-[:OWNS_ITEM]->(c)) \n",
    "FOREACH(ignoreme in case when row['enemy'] is not null then [1] else [] end | \n",
    "    MERGE (c:Character{url:row['enemy']['value']}) \n",
    "    MERGE (r)-[:ENEMY]->(c))\n",
    "\n",
    "\"\"\"\n",
    "\n",
    "while True:\n",
    "    try:\n",
    "        graph.run(import_enemy_query)\n",
    "        print('Done')\n",
    "        break\n",
    "    except:\n",
    "        print('Please wait...')"
   ]
  }
 ],
 "metadata": {
  "colab": {
   "collapsed_sections": [
    "43q2V7_q_bqd",
    "aH3t3Xgl_bzT",
    "oCuD-9d-_b8c",
    "dcm8Q3OhARFU",
    "2I8WmU1vBwlg",
    "2N6JfQ8dEW6X"
   ],
   "name": "BigdataHW2.ipynb",
   "provenance": []
  },
  "kernelspec": {
   "display_name": "Python 3",
   "language": "python",
   "name": "python3"
  },
  "language_info": {
   "codemirror_mode": {
    "name": "ipython",
    "version": 3
   },
   "file_extension": ".py",
   "mimetype": "text/x-python",
   "name": "python",
   "nbconvert_exporter": "python",
   "pygments_lexer": "ipython3",
   "version": "3.8.5"
  }
 },
 "nbformat": 4,
 "nbformat_minor": 1
}
